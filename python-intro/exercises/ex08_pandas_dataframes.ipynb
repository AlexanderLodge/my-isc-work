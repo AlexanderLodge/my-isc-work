{
 "cells": [
  {
   "cell_type": "markdown",
   "id": "32b13a1c-f1dd-455c-841a-ee51f2921d0a",
   "metadata": {
    "editable": true,
    "slideshow": {
     "slide_type": ""
    },
    "tags": []
   },
   "source": [
    "# Exercise 8: More About Pandas DataFrames"
   ]
  },
  {
   "cell_type": "markdown",
   "id": "797afb91-5e95-4bc7-b766-5264341acc8d",
   "metadata": {},
   "source": [
    "## Aim: Learn how to select certain data from a `Pandas` DataFrame."
   ]
  },
  {
   "cell_type": "markdown",
   "id": "8d617a75-0aed-42a5-b48a-5859a06aa5e2",
   "metadata": {},
   "source": [
    "### Issues covered:\n",
    "- Using `loc` and `iloc` to locate data in a dataframe\n",
    "- Slicing dataframes\n",
    "- Creating subsets and masks"
   ]
  },
  {
   "cell_type": "markdown",
   "id": "79d3722b-6d3e-4c81-85b1-367e09372551",
   "metadata": {},
   "source": [
    "## 1. Using `loc` and `iloc`"
   ]
  },
  {
   "cell_type": "markdown",
   "id": "2ffdcbe9-f516-4bd4-8022-f26c7a11dbfb",
   "metadata": {},
   "source": [
    "Create a dataframe called `data` from the CSV file `data/europe_gdp.csv` and index it by the `country` column."
   ]
  },
  {
   "cell_type": "code",
   "execution_count": 2,
   "id": "8bc94c29-5257-4c6c-b7e4-0d4c0857be5b",
   "metadata": {
    "editable": true,
    "slideshow": {
     "slide_type": ""
    },
    "tags": [
     "clear_answer_cell"
    ]
   },
   "outputs": [
    {
     "name": "stdout",
     "output_type": "stream",
     "text": [
      "                                       country  gdpPercap_1952  \\\n",
      "country                                                          \n",
      "Albania                                Albania     1601.056136   \n",
      "Austria                                Austria     6137.076492   \n",
      "Belgium                                Belgium     8343.105127   \n",
      "Bosnia and Herzegovina  Bosnia and Herzegovina      973.533195   \n",
      "Bulgaria                              Bulgaria     2444.286648   \n",
      "Croatia                                Croatia     3119.236520   \n",
      "Czech Republic                  Czech Republic     6876.140250   \n",
      "Denmark                                Denmark     9692.385245   \n",
      "Finland                                Finland     6424.519071   \n",
      "France                                  France     7029.809327   \n",
      "Germany                                Germany     7144.114393   \n",
      "Greece                                  Greece     3530.690067   \n",
      "Hungary                                Hungary     5263.673816   \n",
      "Iceland                                Iceland     7267.688428   \n",
      "Ireland                                Ireland     5210.280328   \n",
      "Italy                                    Italy     4931.404155   \n",
      "Montenegro                          Montenegro     2647.585601   \n",
      "Netherlands                        Netherlands     8941.571858   \n",
      "Norway                                  Norway    10095.421720   \n",
      "Poland                                  Poland     4029.329699   \n",
      "Portugal                              Portugal     3068.319867   \n",
      "Romania                                Romania     3144.613186   \n",
      "Serbia                                  Serbia     3581.459448   \n",
      "Slovak Republic                Slovak Republic     5074.659104   \n",
      "Slovenia                              Slovenia     4215.041741   \n",
      "Spain                                    Spain     3834.034742   \n",
      "Sweden                                  Sweden     8527.844662   \n",
      "Switzerland                        Switzerland    14734.232750   \n",
      "Turkey                                  Turkey     1969.100980   \n",
      "United Kingdom                  United Kingdom     9979.508487   \n",
      "\n",
      "                        gdpPercap_1957  gdpPercap_1962  gdpPercap_1967  \\\n",
      "country                                                                  \n",
      "Albania                    1942.284244     2312.888958     2760.196931   \n",
      "Austria                    8842.598030    10750.721110    12834.602400   \n",
      "Belgium                    9714.960623    10991.206760    13149.041190   \n",
      "Bosnia and Herzegovina     1353.989176     1709.683679     2172.352423   \n",
      "Bulgaria                   3008.670727     4254.337839     5577.002800   \n",
      "Croatia                    4338.231617     5477.890018     6960.297861   \n",
      "Czech Republic             8256.343918    10136.867130    11399.444890   \n",
      "Denmark                   11099.659350    13583.313510    15937.211230   \n",
      "Finland                    7545.415386     9371.842561    10921.636260   \n",
      "France                     8662.834898    10560.485530    12999.917660   \n",
      "Germany                   10187.826650    12902.462910    14745.625610   \n",
      "Greece                     4916.299889     6017.190733     8513.097016   \n",
      "Hungary                    6040.180011     7550.359877     9326.644670   \n",
      "Iceland                    9244.001412    10350.159060    13319.895680   \n",
      "Ireland                    5599.077872     6631.597314     7655.568963   \n",
      "Italy                      6248.656232     8243.582340    10022.401310   \n",
      "Montenegro                 3682.259903     4649.593785     5907.850937   \n",
      "Netherlands               11276.193440    12790.849560    15363.251360   \n",
      "Norway                    11653.973040    13450.401510    16361.876470   \n",
      "Poland                     4734.253019     5338.752143     6557.152776   \n",
      "Portugal                   3774.571743     4727.954889     6361.517993   \n",
      "Romania                    3943.370225     4734.997586     6470.866545   \n",
      "Serbia                     4981.090891     6289.629157     7991.707066   \n",
      "Slovak Republic            6093.262980     7481.107598     8412.902397   \n",
      "Slovenia                   5862.276629     7402.303395     9405.489397   \n",
      "Spain                      4564.802410     5693.843879     7993.512294   \n",
      "Sweden                     9911.878226    12329.441920    15258.296970   \n",
      "Switzerland               17909.489730    20431.092700    22966.144320   \n",
      "Turkey                     2218.754257     2322.869908     2826.356387   \n",
      "United Kingdom            11283.177950    12477.177070    14142.850890   \n",
      "\n",
      "                        gdpPercap_1972  gdpPercap_1977  gdpPercap_1982  \\\n",
      "country                                                                  \n",
      "Albania                    3313.422188     3533.003910     3630.880722   \n",
      "Austria                   16661.625600    19749.422300    21597.083620   \n",
      "Belgium                   16672.143560    19117.974480    20979.845890   \n",
      "Bosnia and Herzegovina     2860.169750     3528.481305     4126.613157   \n",
      "Bulgaria                   6597.494398     7612.240438     8224.191647   \n",
      "Croatia                    9164.090127    11305.385170    13221.821840   \n",
      "Czech Republic            13108.453600    14800.160620    15377.228550   \n",
      "Denmark                   18866.207210    20422.901500    21688.040480   \n",
      "Finland                   14358.875900    15605.422830    18533.157610   \n",
      "France                    16107.191710    18292.635140    20293.897460   \n",
      "Germany                   18016.180270    20512.921230    22031.532740   \n",
      "Greece                    12724.829570    14195.524280    15268.420890   \n",
      "Hungary                   10168.656110    11674.837370    12545.990660   \n",
      "Iceland                   15798.063620    19654.962470    23269.607500   \n",
      "Ireland                    9530.772896    11150.981130    12618.321410   \n",
      "Italy                     12269.273780    14255.984750    16537.483500   \n",
      "Montenegro                 7778.414017     9595.929905    11222.587620   \n",
      "Netherlands               18794.745670    21209.059200    21399.460460   \n",
      "Norway                    18965.055510    23311.349390    26298.635310   \n",
      "Poland                     8006.506993     9508.141454     8451.531004   \n",
      "Portugal                   9022.247417    10172.485720    11753.842910   \n",
      "Romania                    8011.414402     9356.397240     9605.314053   \n",
      "Serbia                    10522.067490    12980.669560    15181.092700   \n",
      "Slovak Republic            9674.167626    10922.664040    11348.545850   \n",
      "Slovenia                  12383.486200    15277.030170    17866.721750   \n",
      "Spain                     10638.751310    13236.921170    13926.169970   \n",
      "Sweden                    17832.024640    18855.725210    20667.381250   \n",
      "Switzerland               27195.113040    26982.290520    28397.715120   \n",
      "Turkey                     3450.696380     4269.122326     4241.356344   \n",
      "United Kingdom            15895.116410    17428.748460    18232.424520   \n",
      "\n",
      "                        gdpPercap_1987  gdpPercap_1992  gdpPercap_1997  \\\n",
      "country                                                                  \n",
      "Albania                    3738.932735     2497.437901     3193.054604   \n",
      "Austria                   23687.826070    27042.018680    29095.920660   \n",
      "Belgium                   22525.563080    25575.570690    27561.196630   \n",
      "Bosnia and Herzegovina     4314.114757     2546.781445     4766.355904   \n",
      "Bulgaria                   8239.854824     6302.623438     5970.388760   \n",
      "Croatia                   13822.583940     8447.794873     9875.604515   \n",
      "Czech Republic            16310.443400    14297.021220    16048.514240   \n",
      "Denmark                   25116.175810    26406.739850    29804.345670   \n",
      "Finland                   21141.012230    20647.164990    23723.950200   \n",
      "France                    22066.442140    24703.796150    25889.784870   \n",
      "Germany                   24639.185660    26505.303170    27788.884160   \n",
      "Greece                    16120.528390    17541.496340    18747.698140   \n",
      "Hungary                   12986.479980    10535.628550    11712.776800   \n",
      "Iceland                   26923.206280    25144.392010    28061.099660   \n",
      "Ireland                   13872.866520    17558.815550    24521.947130   \n",
      "Italy                     19207.234820    22013.644860    24675.024460   \n",
      "Montenegro                11732.510170     7003.339037     6465.613349   \n",
      "Netherlands               23651.323610    26790.949610    30246.130630   \n",
      "Norway                    31540.974800    33965.661150    41283.164330   \n",
      "Poland                     9082.351172     7738.881247    10159.583680   \n",
      "Portugal                  13039.308760    16207.266630    17641.031560   \n",
      "Romania                    9696.273295     6598.409903     7346.547557   \n",
      "Serbia                    15870.878510     9325.068238     7914.320304   \n",
      "Slovak Republic           12037.267580     9498.467723    12126.230650   \n",
      "Slovenia                  18678.534920    14214.716810    17161.107350   \n",
      "Spain                     15764.983130    18603.064520    20445.298960   \n",
      "Sweden                    23586.929270    23880.016830    25266.594990   \n",
      "Switzerland               30281.704590    31871.530300    32135.323010   \n",
      "Turkey                     5089.043686     5678.348271     6601.429915   \n",
      "United Kingdom            21664.787670    22705.092540    26074.531360   \n",
      "\n",
      "                        gdpPercap_2002  gdpPercap_2007  \n",
      "country                                                 \n",
      "Albania                    4604.211737     5937.029526  \n",
      "Austria                   32417.607690    36126.492700  \n",
      "Belgium                   30485.883750    33692.605080  \n",
      "Bosnia and Herzegovina     6018.975239     7446.298803  \n",
      "Bulgaria                   7696.777725    10680.792820  \n",
      "Croatia                   11628.388950    14619.222720  \n",
      "Czech Republic            17596.210220    22833.308510  \n",
      "Denmark                   32166.500060    35278.418740  \n",
      "Finland                   28204.590570    33207.084400  \n",
      "France                    28926.032340    30470.016700  \n",
      "Germany                   30035.801980    32170.374420  \n",
      "Greece                    22514.254800    27538.411880  \n",
      "Hungary                   14843.935560    18008.944440  \n",
      "Iceland                   31163.201960    36180.789190  \n",
      "Ireland                   34077.049390    40675.996350  \n",
      "Italy                     27968.098170    28569.719700  \n",
      "Montenegro                 6557.194282     9253.896111  \n",
      "Netherlands               33724.757780    36797.933320  \n",
      "Norway                    44683.975250    49357.190170  \n",
      "Poland                    12002.239080    15389.924680  \n",
      "Portugal                  19970.907870    20509.647770  \n",
      "Romania                    7885.360081    10808.475610  \n",
      "Serbia                     7236.075251     9786.534714  \n",
      "Slovak Republic           13638.778370    18678.314350  \n",
      "Slovenia                  20660.019360    25768.257590  \n",
      "Spain                     24835.471660    28821.063700  \n",
      "Sweden                    29341.630930    33859.748350  \n",
      "Switzerland               34480.957710    37506.419070  \n",
      "Turkey                     6508.085718     8458.276384  \n",
      "United Kingdom            29478.999190    33203.261280  \n"
     ]
    }
   ],
   "source": [
    "import pandas as pd\n",
    "df = pd.read_csv('../data/europe_gdp.csv')\n",
    "df = df.set_index(df.country)\n",
    "print(df)\n"
   ]
  },
  {
   "cell_type": "markdown",
   "id": "4484598d-c091-4af8-b04e-ac6b6583cee8",
   "metadata": {},
   "source": [
    "Print out the GDP per capita for Belgium in 1957 (2nd column, 3rd row) using `iloc`."
   ]
  },
  {
   "cell_type": "markdown",
   "id": "58f9ebf2-2d9e-43ba-9411-072e4385bc5a",
   "metadata": {},
   "source": [
    "_Hint: Remember that indexing starts from 0 in Python. You should get the value `9714.960623`._"
   ]
  },
  {
   "cell_type": "code",
   "execution_count": 7,
   "id": "8ea44ab4-2cd7-4dc8-b223-74e3809175d8",
   "metadata": {
    "editable": true,
    "slideshow": {
     "slide_type": ""
    },
    "tags": [
     "clear_answer_cell"
    ]
   },
   "outputs": [
    {
     "data": {
      "text/plain": [
       "9714.960623"
      ]
     },
     "execution_count": 7,
     "metadata": {},
     "output_type": "execute_result"
    }
   ],
   "source": [
    "df.iloc[2,2]"
   ]
  },
  {
   "cell_type": "markdown",
   "id": "1349050b-7b24-4b9c-8001-efe7ded1b873",
   "metadata": {},
   "source": [
    "Use `loc` to print out GDP per capita for Belgium in 1957. You should get the same result as above."
   ]
  },
  {
   "cell_type": "code",
   "execution_count": 13,
   "id": "9a4e29b2-2be5-49c0-9be6-7ff154fc4797",
   "metadata": {
    "editable": true,
    "slideshow": {
     "slide_type": ""
    },
    "tags": [
     "clear_answer_cell"
    ]
   },
   "outputs": [
    {
     "data": {
      "text/plain": [
       "9714.960623"
      ]
     },
     "execution_count": 13,
     "metadata": {},
     "output_type": "execute_result"
    }
   ],
   "source": [
    "df.loc['Belgium','gdpPercap_1957']"
   ]
  },
  {
   "cell_type": "markdown",
   "id": "967768f6-30b7-40f4-b15f-c6196e3fb462",
   "metadata": {},
   "source": [
    "Print GDP per capita for `Switzerland` for all years using `:`."
   ]
  },
  {
   "cell_type": "code",
   "execution_count": 15,
   "id": "a02c5488-2dda-4c6d-ae72-5894aba452c5",
   "metadata": {
    "editable": true,
    "slideshow": {
     "slide_type": ""
    },
    "tags": [
     "clear_answer_cell"
    ]
   },
   "outputs": [
    {
     "data": {
      "text/plain": [
       "gdpPercap_1957    17909.48973\n",
       "gdpPercap_1962     20431.0927\n",
       "gdpPercap_1967    22966.14432\n",
       "gdpPercap_1972    27195.11304\n",
       "gdpPercap_1977    26982.29052\n",
       "gdpPercap_1982    28397.71512\n",
       "gdpPercap_1987    30281.70459\n",
       "gdpPercap_1992     31871.5303\n",
       "gdpPercap_1997    32135.32301\n",
       "gdpPercap_2002    34480.95771\n",
       "gdpPercap_2007    37506.41907\n",
       "Name: Switzerland, dtype: object"
      ]
     },
     "execution_count": 15,
     "metadata": {},
     "output_type": "execute_result"
    }
   ],
   "source": [
    "df.loc['Switzerland','gdpPercap_1957':'gdpPercap_2007']"
   ]
  },
  {
   "cell_type": "markdown",
   "id": "2297bf59-1726-40c1-a97f-9ec8818cbe7e",
   "metadata": {},
   "source": [
    "Print out GDP per capita in 1987 for all countries."
   ]
  },
  {
   "cell_type": "code",
   "execution_count": 16,
   "id": "f05af7ea-16f1-4d04-94b3-f093d424d4be",
   "metadata": {
    "editable": true,
    "slideshow": {
     "slide_type": ""
    },
    "tags": [
     "clear_answer_cell"
    ]
   },
   "outputs": [
    {
     "data": {
      "text/plain": [
       "country\n",
       "Albania                    3738.932735\n",
       "Austria                   23687.826070\n",
       "Belgium                   22525.563080\n",
       "Bosnia and Herzegovina     4314.114757\n",
       "Bulgaria                   8239.854824\n",
       "Croatia                   13822.583940\n",
       "Czech Republic            16310.443400\n",
       "Denmark                   25116.175810\n",
       "Finland                   21141.012230\n",
       "France                    22066.442140\n",
       "Germany                   24639.185660\n",
       "Greece                    16120.528390\n",
       "Hungary                   12986.479980\n",
       "Iceland                   26923.206280\n",
       "Ireland                   13872.866520\n",
       "Italy                     19207.234820\n",
       "Montenegro                11732.510170\n",
       "Netherlands               23651.323610\n",
       "Norway                    31540.974800\n",
       "Poland                     9082.351172\n",
       "Portugal                  13039.308760\n",
       "Romania                    9696.273295\n",
       "Serbia                    15870.878510\n",
       "Slovak Republic           12037.267580\n",
       "Slovenia                  18678.534920\n",
       "Spain                     15764.983130\n",
       "Sweden                    23586.929270\n",
       "Switzerland               30281.704590\n",
       "Turkey                     5089.043686\n",
       "United Kingdom            21664.787670\n",
       "Name: gdpPercap_1987, dtype: float64"
      ]
     },
     "execution_count": 16,
     "metadata": {},
     "output_type": "execute_result"
    }
   ],
   "source": [
    "df.loc[:,'gdpPercap_1987']"
   ]
  },
  {
   "cell_type": "markdown",
   "id": "7433bb77-8c7a-431a-8ad6-8c513dc6a1e9",
   "metadata": {},
   "source": [
    "Print out a slice of the data frame which shows GDP for countries between Denmark to Iceland from 1982 to 1992. "
   ]
  },
  {
   "cell_type": "code",
   "execution_count": 18,
   "id": "82eec90b-0537-419e-9821-19a887db168c",
   "metadata": {
    "editable": true,
    "slideshow": {
     "slide_type": ""
    },
    "tags": [
     "clear_answer_cell"
    ]
   },
   "outputs": [
    {
     "data": {
      "text/html": [
       "<div>\n",
       "<style scoped>\n",
       "    .dataframe tbody tr th:only-of-type {\n",
       "        vertical-align: middle;\n",
       "    }\n",
       "\n",
       "    .dataframe tbody tr th {\n",
       "        vertical-align: top;\n",
       "    }\n",
       "\n",
       "    .dataframe thead th {\n",
       "        text-align: right;\n",
       "    }\n",
       "</style>\n",
       "<table border=\"1\" class=\"dataframe\">\n",
       "  <thead>\n",
       "    <tr style=\"text-align: right;\">\n",
       "      <th></th>\n",
       "      <th>gdpPercap_1982</th>\n",
       "      <th>gdpPercap_1987</th>\n",
       "      <th>gdpPercap_1992</th>\n",
       "    </tr>\n",
       "    <tr>\n",
       "      <th>country</th>\n",
       "      <th></th>\n",
       "      <th></th>\n",
       "      <th></th>\n",
       "    </tr>\n",
       "  </thead>\n",
       "  <tbody>\n",
       "    <tr>\n",
       "      <th>Denmark</th>\n",
       "      <td>21688.04048</td>\n",
       "      <td>25116.17581</td>\n",
       "      <td>26406.73985</td>\n",
       "    </tr>\n",
       "    <tr>\n",
       "      <th>Finland</th>\n",
       "      <td>18533.15761</td>\n",
       "      <td>21141.01223</td>\n",
       "      <td>20647.16499</td>\n",
       "    </tr>\n",
       "    <tr>\n",
       "      <th>France</th>\n",
       "      <td>20293.89746</td>\n",
       "      <td>22066.44214</td>\n",
       "      <td>24703.79615</td>\n",
       "    </tr>\n",
       "    <tr>\n",
       "      <th>Germany</th>\n",
       "      <td>22031.53274</td>\n",
       "      <td>24639.18566</td>\n",
       "      <td>26505.30317</td>\n",
       "    </tr>\n",
       "    <tr>\n",
       "      <th>Greece</th>\n",
       "      <td>15268.42089</td>\n",
       "      <td>16120.52839</td>\n",
       "      <td>17541.49634</td>\n",
       "    </tr>\n",
       "    <tr>\n",
       "      <th>Hungary</th>\n",
       "      <td>12545.99066</td>\n",
       "      <td>12986.47998</td>\n",
       "      <td>10535.62855</td>\n",
       "    </tr>\n",
       "    <tr>\n",
       "      <th>Iceland</th>\n",
       "      <td>23269.60750</td>\n",
       "      <td>26923.20628</td>\n",
       "      <td>25144.39201</td>\n",
       "    </tr>\n",
       "  </tbody>\n",
       "</table>\n",
       "</div>"
      ],
      "text/plain": [
       "         gdpPercap_1982  gdpPercap_1987  gdpPercap_1992\n",
       "country                                                \n",
       "Denmark     21688.04048     25116.17581     26406.73985\n",
       "Finland     18533.15761     21141.01223     20647.16499\n",
       "France      20293.89746     22066.44214     24703.79615\n",
       "Germany     22031.53274     24639.18566     26505.30317\n",
       "Greece      15268.42089     16120.52839     17541.49634\n",
       "Hungary     12545.99066     12986.47998     10535.62855\n",
       "Iceland     23269.60750     26923.20628     25144.39201"
      ]
     },
     "execution_count": 18,
     "metadata": {},
     "output_type": "execute_result"
    }
   ],
   "source": [
    "df.loc['Denmark':'Iceland','gdpPercap_1982':'gdpPercap_1992']"
   ]
  },
  {
   "cell_type": "markdown",
   "id": "d0a7041f-1496-4738-9765-26d8ffdb997a",
   "metadata": {},
   "source": [
    "Print out the last 3 columns for the last 3 rows of countries."
   ]
  },
  {
   "cell_type": "code",
   "execution_count": 19,
   "id": "8a524211-5370-425c-8a61-2da43a8142ec",
   "metadata": {
    "editable": true,
    "slideshow": {
     "slide_type": ""
    },
    "tags": [
     "clear_answer_cell"
    ]
   },
   "outputs": [
    {
     "data": {
      "text/html": [
       "<div>\n",
       "<style scoped>\n",
       "    .dataframe tbody tr th:only-of-type {\n",
       "        vertical-align: middle;\n",
       "    }\n",
       "\n",
       "    .dataframe tbody tr th {\n",
       "        vertical-align: top;\n",
       "    }\n",
       "\n",
       "    .dataframe thead th {\n",
       "        text-align: right;\n",
       "    }\n",
       "</style>\n",
       "<table border=\"1\" class=\"dataframe\">\n",
       "  <thead>\n",
       "    <tr style=\"text-align: right;\">\n",
       "      <th></th>\n",
       "      <th>gdpPercap_1997</th>\n",
       "      <th>gdpPercap_2002</th>\n",
       "      <th>gdpPercap_2007</th>\n",
       "    </tr>\n",
       "    <tr>\n",
       "      <th>country</th>\n",
       "      <th></th>\n",
       "      <th></th>\n",
       "      <th></th>\n",
       "    </tr>\n",
       "  </thead>\n",
       "  <tbody>\n",
       "    <tr>\n",
       "      <th>Switzerland</th>\n",
       "      <td>32135.323010</td>\n",
       "      <td>34480.957710</td>\n",
       "      <td>37506.419070</td>\n",
       "    </tr>\n",
       "    <tr>\n",
       "      <th>Turkey</th>\n",
       "      <td>6601.429915</td>\n",
       "      <td>6508.085718</td>\n",
       "      <td>8458.276384</td>\n",
       "    </tr>\n",
       "    <tr>\n",
       "      <th>United Kingdom</th>\n",
       "      <td>26074.531360</td>\n",
       "      <td>29478.999190</td>\n",
       "      <td>33203.261280</td>\n",
       "    </tr>\n",
       "  </tbody>\n",
       "</table>\n",
       "</div>"
      ],
      "text/plain": [
       "                gdpPercap_1997  gdpPercap_2002  gdpPercap_2007\n",
       "country                                                       \n",
       "Switzerland       32135.323010    34480.957710    37506.419070\n",
       "Turkey             6601.429915     6508.085718     8458.276384\n",
       "United Kingdom    26074.531360    29478.999190    33203.261280"
      ]
     },
     "execution_count": 19,
     "metadata": {},
     "output_type": "execute_result"
    }
   ],
   "source": [
    "df.loc['Switzerland':'United Kingdom','gdpPercap_1997':'gdpPercap_2007']"
   ]
  },
  {
   "cell_type": "markdown",
   "id": "85dd99ef-f3a2-4012-817d-319df3c5fea8",
   "metadata": {},
   "source": [
    "What are the maximum GDP values between 1997-2007 for the last 3 countries alphabetically? "
   ]
  },
  {
   "cell_type": "code",
   "execution_count": 21,
   "id": "c4c6cd1b-b83d-421f-b7e4-bcdf7d42fdda",
   "metadata": {
    "editable": true,
    "slideshow": {
     "slide_type": ""
    },
    "tags": [
     "clear_answer_cell"
    ]
   },
   "outputs": [
    {
     "name": "stdout",
     "output_type": "stream",
     "text": [
      "gdpPercap_1997    32135.32301\n",
      "gdpPercap_2002    34480.95771\n",
      "gdpPercap_2007    37506.41907\n",
      "dtype: float64\n"
     ]
    }
   ],
   "source": [
    "print(df.loc['Switzerland':'United Kingdom','gdpPercap_1997':'gdpPercap_2007'].max())"
   ]
  },
  {
   "cell_type": "markdown",
   "id": "d8ccfd82-f09b-40ae-84b4-bf3c578009d4",
   "metadata": {},
   "source": [
    "## 2. Creating subsets and masks"
   ]
  },
  {
   "cell_type": "markdown",
   "id": "88ae8007-52d2-41ee-b559-9b44571457d3",
   "metadata": {},
   "source": [
    "Create a variable called `subset` which contains only the data for Hungary to Netherlands between 1962 and 1972. Print out the subset."
   ]
  },
  {
   "cell_type": "code",
   "execution_count": 27,
   "id": "d97d35c2-d7f4-44df-986c-5aa79ffcf18c",
   "metadata": {
    "editable": true,
    "slideshow": {
     "slide_type": ""
    },
    "tags": [
     "clear_answer_cell"
    ]
   },
   "outputs": [
    {
     "name": "stdout",
     "output_type": "stream",
     "text": [
      "             gdpPercap_1962  gdpPercap_1967  gdpPercap_1972\n",
      "country                                                    \n",
      "Hungary         7550.359877     9326.644670    10168.656110\n",
      "Iceland        10350.159060    13319.895680    15798.063620\n",
      "Ireland         6631.597314     7655.568963     9530.772896\n",
      "Italy           8243.582340    10022.401310    12269.273780\n",
      "Montenegro      4649.593785     5907.850937     7778.414017\n",
      "Netherlands    12790.849560    15363.251360    18794.745670\n"
     ]
    }
   ],
   "source": [
    "subset = df.loc['Hungary':'Netherlands','gdpPercap_1962':'gdpPercap_1972']\n",
    "print(subset)"
   ]
  },
  {
   "cell_type": "markdown",
   "id": "f4c19abd-7571-452f-96cf-d23df1b1d193",
   "metadata": {},
   "source": [
    "Return a dataframe of boolean (`True` or `False`) values showing where the GDP values are greater than 10000. "
   ]
  },
  {
   "cell_type": "raw",
   "id": "ded9cfd0-741f-4acd-b848-7ba8ed4dab75",
   "metadata": {
    "editable": true,
    "execution": {
     "iopub.execute_input": "2023-10-23T10:35:21.770608Z",
     "iopub.status.busy": "2023-10-23T10:35:21.770358Z",
     "iopub.status.idle": "2023-10-23T10:35:21.778504Z",
     "shell.execute_reply": "2023-10-23T10:35:21.777640Z"
    },
    "slideshow": {
     "slide_type": ""
    },
    "tags": [
     "clear_answer_cell"
    ]
   },
   "source": [
    "#print('\\nWhere are values > 10,000?', subset > 10000)\n",
    "print('\\nWhere are values large?\\n', subset > 10000)"
   ]
  },
  {
   "cell_type": "code",
   "execution_count": 28,
   "id": "02f120f4-a21d-4323-ba12-132874a303fd",
   "metadata": {},
   "outputs": [
    {
     "name": "stdout",
     "output_type": "stream",
     "text": [
      "\n",
      "Where are values > 10,000?              gdpPercap_1962  gdpPercap_1967  gdpPercap_1972\n",
      "country                                                    \n",
      "Hungary               False           False            True\n",
      "Iceland                True            True            True\n",
      "Ireland               False           False           False\n",
      "Italy                 False            True            True\n",
      "Montenegro            False           False           False\n",
      "Netherlands            True            True            True\n"
     ]
    }
   ],
   "source": [
    "print('\\nWhere are values > 10,000?', subset > 10000)"
   ]
  },
  {
   "cell_type": "markdown",
   "id": "1a481d2b-d49e-4a20-af9c-fd312b5b8f3d",
   "metadata": {},
   "source": [
    "Create a boolean mask for the above and print the result of applying this to the subset."
   ]
  },
  {
   "cell_type": "code",
   "execution_count": 30,
   "id": "cecf6848-5ae4-4726-a393-4a94ec16c949",
   "metadata": {
    "editable": true,
    "slideshow": {
     "slide_type": ""
    },
    "tags": [
     "clear_answer_cell"
    ]
   },
   "outputs": [
    {
     "name": "stdout",
     "output_type": "stream",
     "text": [
      "             gdpPercap_1962  gdpPercap_1967  gdpPercap_1972\n",
      "country                                                    \n",
      "Hungary                 NaN             NaN     10168.65611\n",
      "Iceland         10350.15906     13319.89568     15798.06362\n",
      "Ireland                 NaN             NaN             NaN\n",
      "Italy                   NaN     10022.40131     12269.27378\n",
      "Montenegro              NaN             NaN             NaN\n",
      "Netherlands     12790.84956     15363.25136     18794.74567\n"
     ]
    }
   ],
   "source": [
    "mask = subset > 10000\n",
    "print(subset[mask])"
   ]
  },
  {
   "cell_type": "markdown",
   "id": "6a165f68-4ba4-4af9-8874-3b57a681491d",
   "metadata": {},
   "source": [
    "What is the mean and standard deviation of the mask applied to this subset?"
   ]
  },
  {
   "cell_type": "code",
   "execution_count": 32,
   "id": "7d39bf41-2d9a-4de4-b6e6-8d8c1af1e7b9",
   "metadata": {
    "editable": true,
    "slideshow": {
     "slide_type": ""
    },
    "tags": [
     "clear_answer_cell"
    ]
   },
   "outputs": [
    {
     "data": {
      "text/html": [
       "<div>\n",
       "<style scoped>\n",
       "    .dataframe tbody tr th:only-of-type {\n",
       "        vertical-align: middle;\n",
       "    }\n",
       "\n",
       "    .dataframe tbody tr th {\n",
       "        vertical-align: top;\n",
       "    }\n",
       "\n",
       "    .dataframe thead th {\n",
       "        text-align: right;\n",
       "    }\n",
       "</style>\n",
       "<table border=\"1\" class=\"dataframe\">\n",
       "  <thead>\n",
       "    <tr style=\"text-align: right;\">\n",
       "      <th></th>\n",
       "      <th>gdpPercap_1962</th>\n",
       "      <th>gdpPercap_1967</th>\n",
       "      <th>gdpPercap_1972</th>\n",
       "    </tr>\n",
       "  </thead>\n",
       "  <tbody>\n",
       "    <tr>\n",
       "      <th>count</th>\n",
       "      <td>6.000000</td>\n",
       "      <td>6.000000</td>\n",
       "      <td>6.000000</td>\n",
       "    </tr>\n",
       "    <tr>\n",
       "      <th>mean</th>\n",
       "      <td>8369.356989</td>\n",
       "      <td>10265.935487</td>\n",
       "      <td>12389.987682</td>\n",
       "    </tr>\n",
       "    <tr>\n",
       "      <th>std</th>\n",
       "      <td>2864.129743</td>\n",
       "      <td>3523.004185</td>\n",
       "      <td>4171.966278</td>\n",
       "    </tr>\n",
       "    <tr>\n",
       "      <th>min</th>\n",
       "      <td>4649.593785</td>\n",
       "      <td>5907.850937</td>\n",
       "      <td>7778.414017</td>\n",
       "    </tr>\n",
       "    <tr>\n",
       "      <th>25%</th>\n",
       "      <td>6861.287955</td>\n",
       "      <td>8073.337890</td>\n",
       "      <td>9690.243700</td>\n",
       "    </tr>\n",
       "    <tr>\n",
       "      <th>50%</th>\n",
       "      <td>7896.971108</td>\n",
       "      <td>9674.522990</td>\n",
       "      <td>11218.964945</td>\n",
       "    </tr>\n",
       "    <tr>\n",
       "      <th>75%</th>\n",
       "      <td>9823.514880</td>\n",
       "      <td>12495.522087</td>\n",
       "      <td>14915.866160</td>\n",
       "    </tr>\n",
       "    <tr>\n",
       "      <th>max</th>\n",
       "      <td>12790.849560</td>\n",
       "      <td>15363.251360</td>\n",
       "      <td>18794.745670</td>\n",
       "    </tr>\n",
       "  </tbody>\n",
       "</table>\n",
       "</div>"
      ],
      "text/plain": [
       "       gdpPercap_1962  gdpPercap_1967  gdpPercap_1972\n",
       "count        6.000000        6.000000        6.000000\n",
       "mean      8369.356989    10265.935487    12389.987682\n",
       "std       2864.129743     3523.004185     4171.966278\n",
       "min       4649.593785     5907.850937     7778.414017\n",
       "25%       6861.287955     8073.337890     9690.243700\n",
       "50%       7896.971108     9674.522990    11218.964945\n",
       "75%       9823.514880    12495.522087    14915.866160\n",
       "max      12790.849560    15363.251360    18794.745670"
      ]
     },
     "execution_count": 32,
     "metadata": {},
     "output_type": "execute_result"
    }
   ],
   "source": [
    "subset.describe()"
   ]
  },
  {
   "cell_type": "markdown",
   "id": "8b51e7c6-32ae-410d-9a97-7133c985fbd5",
   "metadata": {},
   "source": [
    "## 3. Extension Questions"
   ]
  },
  {
   "cell_type": "markdown",
   "id": "12ca99b8-de0e-48ea-9821-2045f4762f11",
   "metadata": {},
   "source": [
    "1. Find the index of the maximum for each column of the dataset. "
   ]
  },
  {
   "cell_type": "markdown",
   "id": "dc95aba8-54e7-4e7b-8a2b-fe135af11f98",
   "metadata": {},
   "source": [
    "_Hint: You will need to make use of `idxmax()`._"
   ]
  },
  {
   "cell_type": "code",
   "execution_count": 13,
   "id": "9713081c-49e4-482a-9a69-ad8b3447111e",
   "metadata": {
    "editable": true,
    "execution": {
     "iopub.execute_input": "2023-10-23T10:35:21.820940Z",
     "iopub.status.busy": "2023-10-23T10:35:21.820691Z",
     "iopub.status.idle": "2023-10-23T10:35:21.827291Z",
     "shell.execute_reply": "2023-10-23T10:35:21.826304Z"
    },
    "slideshow": {
     "slide_type": ""
    },
    "tags": [
     "clear_answer_cell"
    ]
   },
   "outputs": [],
   "source": []
  },
  {
   "cell_type": "markdown",
   "id": "0ae616dd-09fd-4b72-9964-825b34c7995d",
   "metadata": {},
   "source": [
    "2. Similarly, find the index of the minimum for each column of the dataset."
   ]
  },
  {
   "cell_type": "markdown",
   "id": "7c4c39ff-f507-421d-a691-6e4aab835839",
   "metadata": {},
   "source": [
    "_Hint: You will need to make use of `idxmin()`._"
   ]
  },
  {
   "cell_type": "code",
   "execution_count": 14,
   "id": "199d7efe-7ba1-4129-ba0b-470ec32496e6",
   "metadata": {
    "editable": true,
    "execution": {
     "iopub.execute_input": "2023-10-23T10:35:21.831541Z",
     "iopub.status.busy": "2023-10-23T10:35:21.831207Z",
     "iopub.status.idle": "2023-10-23T10:35:21.838455Z",
     "shell.execute_reply": "2023-10-23T10:35:21.837398Z"
    },
    "slideshow": {
     "slide_type": ""
    },
    "tags": [
     "clear_answer_cell"
    ]
   },
   "outputs": [],
   "source": []
  },
  {
   "cell_type": "markdown",
   "id": "7c23f6c6-7a98-495e-885e-165d077979d0",
   "metadata": {},
   "source": [
    "3. Print out the median GDP per capita across all countries for each year."
   ]
  },
  {
   "cell_type": "markdown",
   "id": "04c33f7d-0c99-4cba-8ae2-cbc3f3fae2b8",
   "metadata": {},
   "source": [
    "_Hint: Use `median()`._"
   ]
  },
  {
   "cell_type": "code",
   "execution_count": 15,
   "id": "c974d6eb-93bb-4d34-81a8-fe04a6fdfd1b",
   "metadata": {
    "editable": true,
    "execution": {
     "iopub.execute_input": "2023-10-23T10:35:21.841656Z",
     "iopub.status.busy": "2023-10-23T10:35:21.841395Z",
     "iopub.status.idle": "2023-10-23T10:35:21.854214Z",
     "shell.execute_reply": "2023-10-23T10:35:21.853326Z"
    },
    "slideshow": {
     "slide_type": ""
    },
    "tags": [
     "clear_answer_cell"
    ]
   },
   "outputs": [],
   "source": []
  }
 ],
 "metadata": {
  "kernelspec": {
   "display_name": "Python 3 + Jaspy",
   "language": "python",
   "name": "jaspy"
  },
  "language_info": {
   "codemirror_mode": {
    "name": "ipython",
    "version": 3
   },
   "file_extension": ".py",
   "mimetype": "text/x-python",
   "name": "python",
   "nbconvert_exporter": "python",
   "pygments_lexer": "ipython3",
   "version": "3.10.5"
  }
 },
 "nbformat": 4,
 "nbformat_minor": 5
}
